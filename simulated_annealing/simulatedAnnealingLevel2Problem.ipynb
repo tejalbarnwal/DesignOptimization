{
 "cells": [
  {
   "cell_type": "code",
   "execution_count": 23,
   "id": "3757105a",
   "metadata": {},
   "outputs": [],
   "source": [
    "def design_variables():\n",
    "    pass"
   ]
  },
  {
   "cell_type": "code",
   "execution_count": 25,
   "id": "c781be2b",
   "metadata": {},
   "outputs": [],
   "source": [
    "def parameters():\n",
    "    n = 10 # total no of vertices\n",
    "    U = {0, 1, 2, 3, 4, 5, 6, 7, 8, 9}\n",
    "    p = 5 # no of pickups\n",
    "    d = N-p # no of deliveries\n",
    "    P = {0, 1, 2, 3, 4} # set of pickup vertices\n",
    "    D = U - P\n",
    "    source_depot = 0\n",
    "    destination_depot = 9\n",
    "    K = 3 # no of UAVs available\n",
    "    q = None # demand or supply at each vertex #size 1X9\n",
    "    s = None # service duration at each vertex # size 1X9\n",
    "    c = None # cost for each UAV to travel for vertext from i to j # 9X9X3\n",
    "    E = None # energy capacity #1X3\n",
    "    R = None # refueling duration #not sure now if array"
   ]
  },
  {
   "cell_type": "code",
   "execution_count": 24,
   "id": "3d5557a4",
   "metadata": {},
   "outputs": [],
   "source": [
    "def objective_function():\n",
    "    pass"
   ]
  },
  {
   "cell_type": "code",
   "execution_count": null,
   "id": "46321e99",
   "metadata": {},
   "outputs": [],
   "source": [
    "# langrage\n",
    "# barrier methods/ pentaly\n",
    "# augmented langrange\n",
    "# "
   ]
  },
  {
   "cell_type": "code",
   "execution_count": null,
   "id": "829d8f1f",
   "metadata": {},
   "outputs": [],
   "source": []
  }
 ],
 "metadata": {
  "kernelspec": {
   "display_name": "Python 3 (ipykernel)",
   "language": "python",
   "name": "python3"
  },
  "language_info": {
   "codemirror_mode": {
    "name": "ipython",
    "version": 3
   },
   "file_extension": ".py",
   "mimetype": "text/x-python",
   "name": "python",
   "nbconvert_exporter": "python",
   "pygments_lexer": "ipython3",
   "version": "3.8.10"
  }
 },
 "nbformat": 4,
 "nbformat_minor": 5
}
